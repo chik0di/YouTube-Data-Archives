{
 "cells": [
  {
   "cell_type": "code",
   "execution_count": 1,
   "metadata": {},
   "outputs": [],
   "source": [
    "from googleapiclient.discovery import build \n",
    "import pandas as pd \n",
    "from dotenv import load_dotenv\n",
    "import os\n",
    "import re"
   ]
  },
  {
   "cell_type": "code",
   "execution_count": 2,
   "metadata": {},
   "outputs": [],
   "source": [
    "load_dotenv()\n",
    "api_key =  os.getenv(\"API_KEY\")\n",
    "channel_id = \"UCWsDFcIhY2DBi3GB5uykGXA\"\n",
    "\n",
    "youtube = build('youtube', 'v3', developerKey=api_key)"
   ]
  },
  {
   "cell_type": "markdown",
   "metadata": {},
   "source": [
    "Get Channel Data"
   ]
  },
  {
   "cell_type": "code",
   "execution_count": 3,
   "metadata": {},
   "outputs": [],
   "source": [
    "def get_channel_stats(youtube, channel_id):\n",
    "    \n",
    "    request = youtube.channels().list(\n",
    "        part=\"snippet,statistics\",\n",
    "        id=channel_id\n",
    "    )\n",
    "    response = request.execute()\n",
    "\n",
    "    data =  dict(Channel_name = response['items'][0]['snippet']['title'], \n",
    "                 Subscribers = response['items'][0]['statistics']['subscriberCount'],\n",
    "                 Views = response['items'][0]['statistics']['viewCount'],\n",
    "                 Total_videos = response['items'][0]['statistics']['videoCount']\n",
    "                 )\n",
    "    \n",
    "    return data"
   ]
  },
  {
   "cell_type": "code",
   "execution_count": 4,
   "metadata": {},
   "outputs": [
    {
     "data": {
      "text/plain": [
       "{'Channel_name': 'IShowSpeed',\n",
       " 'Subscribers': '34200000',\n",
       " 'Views': '3406776148',\n",
       " 'Total_videos': '1508'}"
      ]
     },
     "execution_count": 4,
     "metadata": {},
     "output_type": "execute_result"
    }
   ],
   "source": [
    "get_channel_stats(youtube, channel_id)"
   ]
  },
  {
   "cell_type": "markdown",
   "metadata": {},
   "source": [
    "Collecting all Speed's YouTube Videos' Statistics"
   ]
  },
  {
   "cell_type": "code",
   "execution_count": 5,
   "metadata": {},
   "outputs": [],
   "source": [
    "#\n",
    "def get_channel_videos(channel_id):\n",
    "\n",
    "    channel_response = youtube.channels().list(\n",
    "        part='contentDetails',\n",
    "        id=channel_id\n",
    "    ).execute()\n",
    "\n",
    "    uploads_playlist_id = channel_response['items'][0]['contentDetails']['relatedPlaylists']['uploads']\n",
    "\n",
    "    videos = []\n",
    "    next_page_token = None\n",
    "\n",
    "    while True:\n",
    "        playlist_response = youtube.playlistItems().list(\n",
    "            part='snippet,contentDetails',\n",
    "            playlistId=uploads_playlist_id,\n",
    "            maxResults=50,\n",
    "            pageToken=next_page_token\n",
    "        ).execute()\n",
    "\n",
    "        for item in playlist_response['items']:\n",
    "            video_id = item['contentDetails']['videoId']\n",
    "            videos.append(video_id)\n",
    "\n",
    "        next_page_token = playlist_response.get('nextPageToken')\n",
    "\n",
    "        if not next_page_token:\n",
    "            break\n",
    "\n",
    "    return videos\n",
    "\n",
    "video_ids = get_channel_videos(channel_id)\n",
    "\n",
    "\n",
    "# Function to parse duration\n",
    "\n",
    "def parse_duration(duration):\n",
    "    pattern = r'PT(\\d+H)?(\\d+M)?(\\d+S)?'\n",
    "    match = re.match(pattern, duration)\n",
    "\n",
    "    hours = int(match.group(1)[:-1]) if match.group(1) else 0\n",
    "    minutes = int(match.group(2)[:-1]) if match.group(2) else 0\n",
    "    seconds = int(match.group(3)[:-1]) if match.group(3) else 0\n",
    "\n",
    "    total_seconds = hours * 3600 + minutes * 60 + seconds\n",
    "    formatted_time = f\"{hours:02}:{minutes:02}:{seconds:02}\"\n",
    "\n",
    "    return total_seconds, formatted_time\n",
    "\n",
    "\n",
    "# Function to fetch video statistics\n",
    "\n",
    "def get_video_statistics(video_ids):\n",
    "    stats = []\n",
    "    for video_id in video_ids:\n",
    "        response = youtube.videos().list(\n",
    "            part=\"snippet,contentDetails,statistics\",\n",
    "            id=video_id\n",
    "        ).execute()\n",
    "\n",
    "        for item in response['items']:\n",
    "            duration = item['contentDetails']['duration']\n",
    "            total_seconds, formatted_time = parse_duration(duration)\n",
    "\n",
    "            stats.append({\n",
    "                'videoId': video_id,\n",
    "                'videoTitle': item['snippet']['title'],\n",
    "                # 'videoDescription': item['snippet']['description'],\n",
    "                'datePosted': item['snippet']['publishedAt'],\n",
    "                'duration': formatted_time,\n",
    "                'totalSeconds': total_seconds,\n",
    "                'views': item['statistics']['viewCount'],\n",
    "                'likes': item['statistics'].get('likeCount', 0),\n",
    "                'comments': item['statistics'].get('commentCount', 0)\n",
    "            })\n",
    "    return stats\n",
    "\n",
    "video_stats = get_video_statistics(video_ids)\n",
    "# video_stats"
   ]
  },
  {
   "cell_type": "code",
   "execution_count": 6,
   "metadata": {},
   "outputs": [],
   "source": [
    "df = pd.DataFrame(video_stats)"
   ]
  },
  {
   "cell_type": "code",
   "execution_count": 7,
   "metadata": {},
   "outputs": [
    {
     "data": {
      "text/html": [
       "<div>\n",
       "<style scoped>\n",
       "    .dataframe tbody tr th:only-of-type {\n",
       "        vertical-align: middle;\n",
       "    }\n",
       "\n",
       "    .dataframe tbody tr th {\n",
       "        vertical-align: top;\n",
       "    }\n",
       "\n",
       "    .dataframe thead th {\n",
       "        text-align: right;\n",
       "    }\n",
       "</style>\n",
       "<table border=\"1\" class=\"dataframe\">\n",
       "  <thead>\n",
       "    <tr style=\"text-align: right;\">\n",
       "      <th></th>\n",
       "      <th>videoId</th>\n",
       "      <th>videoTitle</th>\n",
       "      <th>datePosted</th>\n",
       "      <th>duration</th>\n",
       "      <th>totalSeconds</th>\n",
       "      <th>views</th>\n",
       "      <th>likes</th>\n",
       "      <th>comments</th>\n",
       "    </tr>\n",
       "  </thead>\n",
       "  <tbody>\n",
       "    <tr>\n",
       "      <th>0</th>\n",
       "      <td>dpgRc8PvUIo</td>\n",
       "      <td>PLAYING FORTNITE UNTIL WE WIN pt 5 ⛏️ ft. Kai ...</td>\n",
       "      <td>2024-12-30T07:06:24Z</td>\n",
       "      <td>11:06:50</td>\n",
       "      <td>40010</td>\n",
       "      <td>8400478</td>\n",
       "      <td>172883</td>\n",
       "      <td>6263</td>\n",
       "    </tr>\n",
       "    <tr>\n",
       "      <th>1</th>\n",
       "      <td>GLCnbEunjSs</td>\n",
       "      <td>PLAYING FORTNITE UNTIL WE WIN pt 4 ⛏️ ft. Kai ...</td>\n",
       "      <td>2024-12-29T19:43:30Z</td>\n",
       "      <td>11:14:59</td>\n",
       "      <td>40499</td>\n",
       "      <td>5871678</td>\n",
       "      <td>131644</td>\n",
       "      <td>766</td>\n",
       "    </tr>\n",
       "    <tr>\n",
       "      <th>2</th>\n",
       "      <td>tyIuYkABPfo</td>\n",
       "      <td>PLAYING FORTNITE UNTIL WE WIN pt 3⛏️ ft. Kai C...</td>\n",
       "      <td>2024-12-29T08:35:24Z</td>\n",
       "      <td>11:35:18</td>\n",
       "      <td>41718</td>\n",
       "      <td>7631389</td>\n",
       "      <td>167410</td>\n",
       "      <td>1507</td>\n",
       "    </tr>\n",
       "    <tr>\n",
       "      <th>3</th>\n",
       "      <td>rgNcb8PTvgc</td>\n",
       "      <td>PLAYING FORTNITE UNTIL WE WIN pt 2⛏️ ft. Kai C...</td>\n",
       "      <td>2024-12-28T20:59:07Z</td>\n",
       "      <td>11:41:35</td>\n",
       "      <td>42095</td>\n",
       "      <td>6473120</td>\n",
       "      <td>165893</td>\n",
       "      <td>792</td>\n",
       "    </tr>\n",
       "    <tr>\n",
       "      <th>4</th>\n",
       "      <td>qkrO2TkbL2A</td>\n",
       "      <td>PLAYING FORTNITE UNTIL WE WIN ⛏️ ft. Kai Cenat...</td>\n",
       "      <td>2024-12-28T09:11:00Z</td>\n",
       "      <td>11:41:40</td>\n",
       "      <td>42100</td>\n",
       "      <td>7847431</td>\n",
       "      <td>212490</td>\n",
       "      <td>1782</td>\n",
       "    </tr>\n",
       "  </tbody>\n",
       "</table>\n",
       "</div>"
      ],
      "text/plain": [
       "       videoId                                         videoTitle  \\\n",
       "0  dpgRc8PvUIo  PLAYING FORTNITE UNTIL WE WIN pt 5 ⛏️ ft. Kai ...   \n",
       "1  GLCnbEunjSs  PLAYING FORTNITE UNTIL WE WIN pt 4 ⛏️ ft. Kai ...   \n",
       "2  tyIuYkABPfo  PLAYING FORTNITE UNTIL WE WIN pt 3⛏️ ft. Kai C...   \n",
       "3  rgNcb8PTvgc  PLAYING FORTNITE UNTIL WE WIN pt 2⛏️ ft. Kai C...   \n",
       "4  qkrO2TkbL2A  PLAYING FORTNITE UNTIL WE WIN ⛏️ ft. Kai Cenat...   \n",
       "\n",
       "             datePosted  duration  totalSeconds    views   likes comments  \n",
       "0  2024-12-30T07:06:24Z  11:06:50         40010  8400478  172883     6263  \n",
       "1  2024-12-29T19:43:30Z  11:14:59         40499  5871678  131644      766  \n",
       "2  2024-12-29T08:35:24Z  11:35:18         41718  7631389  167410     1507  \n",
       "3  2024-12-28T20:59:07Z  11:41:35         42095  6473120  165893      792  \n",
       "4  2024-12-28T09:11:00Z  11:41:40         42100  7847431  212490     1782  "
      ]
     },
     "execution_count": 7,
     "metadata": {},
     "output_type": "execute_result"
    }
   ],
   "source": [
    "df.head()"
   ]
  },
  {
   "cell_type": "code",
   "execution_count": 8,
   "metadata": {},
   "outputs": [],
   "source": [
    "df.to_csv('iShowSpeedVidData.csv', index=False)"
   ]
  }
 ],
 "metadata": {
  "kernelspec": {
   "display_name": "Python 3",
   "language": "python",
   "name": "python3"
  },
  "language_info": {
   "codemirror_mode": {
    "name": "ipython",
    "version": 3
   },
   "file_extension": ".py",
   "mimetype": "text/x-python",
   "name": "python",
   "nbconvert_exporter": "python",
   "pygments_lexer": "ipython3",
   "version": "3.12.4"
  }
 },
 "nbformat": 4,
 "nbformat_minor": 2
}
